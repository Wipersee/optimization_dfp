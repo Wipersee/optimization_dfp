{
  "nbformat": 4,
  "nbformat_minor": 0,
  "metadata": {
    "colab": {
      "name": "Kursach.ipynb",
      "provenance": [],
      "collapsed_sections": [],
      "authorship_tag": "ABX9TyMavc2EYe2XmSufbl53nvmH",
      "include_colab_link": true
    },
    "kernelspec": {
      "name": "python3",
      "display_name": "Python 3"
    },
    "language_info": {
      "name": "python"
    }
  },
  "cells": [
    {
      "cell_type": "markdown",
      "metadata": {
        "id": "view-in-github",
        "colab_type": "text"
      },
      "source": [
        "<a href=\"https://colab.research.google.com/github/Wipersee/optimization_dfp/blob/main/Kursach.ipynb\" target=\"_parent\"><img src=\"https://colab.research.google.com/assets/colab-badge.svg\" alt=\"Open In Colab\"/></a>"
      ]
    },
    {
      "cell_type": "markdown",
      "metadata": {
        "id": "aenOxtJ0X2g7"
      },
      "source": [
        "<left>\n",
        "    <img src=\"https://kpi.ua/files/images/kpi.png\" width=\"300\" alt=\"kpi logo\"  />\n",
        "</left>"
      ]
    },
    {
      "cell_type": "markdown",
      "metadata": {
        "id": "z3RzqE9uX7XI"
      },
      "source": [
        "## Метод Девідона-Флетчера-Паула\n",
        "### Виконав студент групи КМ-81 Піткевич Ілля\n",
        "**Мінімізувати функцію Розенброка методом ДФП**\n",
        "\n",
        "#### Зміст\n",
        "*   Постановка задачі\n",
        "*   Теоретична частина\n",
        "*   Розрахункова частина\n",
        "\n",
        "\n",
        "\n"
      ]
    },
    {
      "cell_type": "markdown",
      "metadata": {
        "id": "NdtLpw1mZT7m"
      },
      "source": [
        "## Постановка задачі:\n",
        "Дослідити збіжність метода ДФП при мінімізації функції Розенброка в залежності від:\n",
        "\n",
        "\n",
        "1.   Величини кроку h при обчисленні похідних\n",
        "2.   Схеми обчислення похідних\n",
        "3.   Виду методу одновимірного пошуку (ДСК-Пауелла або Золотого перетину)\n",
        "4.   Точності методу одновимірного пошуку\n",
        "5.   Значення параметру в алгоритмі Свена\n",
        "6.   Вигляду критерія закінчення\n",
        "7.   Наявності рестартів\n",
        "\n"
      ]
    },
    {
      "cell_type": "markdown",
      "metadata": {
        "id": "lh_YuP9ZcCfQ"
      },
      "source": [
        "## Теоретична частина\n",
        "**Метод Девідона-Флетчера-Пауелла**\n",
        "\n",
        "Метод ДФП заснований на використанні ідей методу Ньютона і методів, які використовують зв'язані напрямки. Матриця напрямків А обчислюється таким чином, щоб для квадратичної цільової функції в межі після n кроків вона дорівнювала $H^{-1}$. Початкова матриця А береться рівній одиничній матриці І. \n",
        "\n",
        "**Алгоритм методу**\n",
        "\n",
        "Вихідні дані: точка $x^{0}$, параметри закінчення $\\varepsilon_1, \\varepsilon_2$.\n",
        "\n",
        "\n",
        "1.   Задати координати початкової точки $x^{k}$. Обчислити значення $\\Delta f(x^{k})$. $A^{0}=I$\n",
        "2.   Обчислити $\\lambda^{k}$ за допомогою одновимірного методу пошуку\n",
        "3.    Обчислити точку $x^{k+1}=x^{k} - \\lambda^{k}*A*\\Delta f(x^{k})$\n",
        "4.    Обчислити $f(x^{k}), \\Delta f(x^{k})$\n",
        "5.    Перевірити виконання критерію закінчення. Якщо виконується - кінець пошуку, якщо ні шукаємо $A$\n",
        "6.    $A^{k} = A^{k-1}+ \\frac{\\Delta x^{k-1} \\Delta {x^{(k-1)}}^T}{\\Delta {x^{(k-1)}}^{T} \\Delta g^{k-1}} - \\frac{A^{k-1}\\Delta g^{k-1}\\Delta {g^{(k-1)}}^{T} A^{k-1} }{\\Delta {g^{(k-1)}}^{T} A^{k-1} \\Delta g^{k-1} }$\n",
        "\n"
      ]
    },
    {
      "cell_type": "markdown",
      "metadata": {
        "id": "_m6dink4WuOz"
      },
      "source": [
        "## Розрахункова частина\n",
        "\n",
        "### Безумовна оптимізація\n",
        "\n",
        "1. Оцінка залежності збіжності функції від кроку обчислення похідних\n",
        "\n",
        "* Схема обчислення похідних – центральна\n",
        "* Метод одновимірного пошуку – ДСК-Пауелла\n",
        "* Точність методу одновимірного пошуку – 0.01\n",
        "* Параметр у алгоритмі Свенна – 0.1\n",
        "* Точність методу – 0.001\n",
        "\n",
        "Значення кроку обчислення похідних  | Викликів функції | Знайдена точка\n",
        "------------- | ------------- | ------------\n",
        "0.001  | 287 | [0.99934026 0.99867854]\n",
        "0.0001  | 308 | [0.99999082 0.99998254]\n",
        "0.00001  | 308 | [0.99999751 0.99999591]\n",
        "0.000001  | 308 | [0.99999757 0.99999604]\n",
        "\n",
        "**Найбільш оптимальним значенням кроку обчислення похідних є 0.00001.**\n",
        "2. Оцінка залежності збіжності функції від схеми обчислення похідних\n",
        "* Крок обчислення похідних – 0.00001\n",
        "* Метод одновимірного пошуку – ДСК-Пауелла\n",
        "* Точність методу одновимірного пошуку – 0.01\n",
        "* Параметр у алгоритмі Свенна – 0.1\n",
        "* Точність методу – 0.001\n",
        "\n",
        "Схема обчислення похідних  | Викликів функції | Знайдена точка\n",
        "------------- | ------------- | ------------\n",
        "Центральна  | 308 | [0.99999751 0.99999591]\n",
        "Ліва  | 1149 | [1.00302603 1.00608199]\n",
        "Права  | 1024 | [0.9971594  0.99431986]\n",
        "\n",
        "3. Оцінка залежності збіжності функції від методу одновимірного пошуку\n",
        "\n",
        "* Крок обчислення похідних – 0.00001\n",
        "* Схема обчислення похідних – центральна\n",
        "* Точність методу одновимірного пошуку – 0.01\n",
        "* Параметр у алгоритмі Свенна – 0.1\n",
        "* Точність методу – 0.001\n",
        "\n",
        "Метод одновимірного пошуку  | Викликів функції | Знайдена точка\n",
        "------------- | ------------- | ------------\n",
        "ДСК Пауелла  | 308 | [0.99999751 0.99999591]\n",
        "Золотий перетин  | 537 | [0.99998812 0.99997639]\n",
        "\n",
        "**Вибираємо ДСК-Паулла**\n",
        "\n",
        "4. Оцінка залежності збіжності функції від точності методу одновимірного пошуку\n",
        "\n",
        "* Крок обчислення похідних – 0.00001\n",
        "* Схема обчислення похідних – центральна\n",
        "* Метод одновимірного пошуку – ДСК-Пауелла\n",
        "* Параметр у алгоритмі Свенна – 0.1\n",
        "* Точність методу – 0.001\n",
        "\n",
        "Точність одновимірного пошуку  | Викликів функції | Знайдена точка\n",
        "------------- | ------------- | ------------\n",
        "0.01  | 308 | [0.99999751 0.99999591]\n",
        "0.001  | 292 | [1.00000801 1.00001541]\n",
        "0.0001  | 321 | [0.99998665 0.99997419]\n",
        "\n",
        "**Як бачимо, доцільно використовувати 0.001.**\n",
        "\n",
        "5. Оцінка залежності збіжності функції від значення параметру в алгоритмі Свенна\n",
        "\n",
        "* Крок обчислення похідних – 0.00001\n",
        "* Схема обчислення похідних – центральна\n",
        "* Метод одновимірного пошуку - ДСК-Пауелла \n",
        "* Точність методу одновимірного пошуку – 0.001\n",
        "* Точність методу – 0.001\n",
        "\n",
        "Значення параметру в алгоритмі Свена  | Викликів функції | Знайдена точка\n",
        "------------- | ------------- | ------------\n",
        "0.01  | 292 | [1.00000801 1.00001541]\n",
        "0.001  | 543 | [0.99999874 0.99999762]\n",
        "0.0001  | 538 | [1.00002352 1.00004496]\n",
        "\n",
        "**Будемо використовувати 0.01**\n",
        "\n",
        "6. Оцінка залежності збіжності функції від точності методу для безумовної оптимізації\n",
        "\n",
        "* Крок обчислення похідних – 0.00001\n",
        "* Схема обчислення похідних – центральна\n",
        "* Метод одновимірного пошуку - ДСК-Пауелла \n",
        "* Точність методу одновимірного пошуку – 0.001\n",
        "* Параметр у алгоритмі Свенна – 0.01\n",
        "\n",
        "Точність методу  | Викликів функції | Знайдена точка\n",
        "------------- | ------------- | ------------\n",
        "0.1  | 93 | [0.9407137  0.88480521]\n",
        "0.01  | 292 | [1.00000801 1.00001541]\n",
        "0.001  | 292 | [1.00000801 1.00001541]\n",
        "0.0001  | 323 | [1.00000007 1.00000015]\n",
        "0.00001  | 323 | [1.00000007 1.00000015]\n",
        "\n",
        "**Виберемо точність 0.001**\n",
        "\n",
        "\n",
        "### Умовна оптимізація\n",
        "\n",
        "Задамо допустиму область:\n",
        "$-x_1^{2}-x_2^{2}+2.3 \\ge 0$\n",
        "\n",
        "Тоді штрафна функція набуде вигляду:\n",
        "\n",
        "$ (1-x)^{2} + 100*(-x^{2}+y)^{2} + R(-x^{2}-y^{2}+2.3)$\n",
        "\n",
        "**Точка лежить поза областю**\n",
        "\n",
        "R | $X_1$ | $X_2$ | Кіл-сть викликів\n",
        "--- | --- | ---- | ----\n",
        "0.1 | 1.03842578 | 1.07845451 | 615 |\n",
        "1 | 1.0462301 | 1.09474909 | 511 |\n",
        "2 | 1.04674307 | 1.09582439 | 783 |\n",
        "5 | 1.04705548 | 1.09647951 | 421 |\n",
        "\n",
        "**Точка лежить в області**\n",
        "\n",
        "R | $X_1$ | $X_2$ | Кіл-сть викликів\n",
        "--- | --- | ---- | ----\n",
        "0.1 |1.03842578 | 1.07845452 | 485 |\n",
        "1 | 1.0462301 | 1.09474909 | 388 |\n",
        "2 | 1.04674307 | 1.09582439 | 369 |\n",
        "10 | 1.0471604 | 1.09669958 | 427 |\n",
        "\n",
        "\n",
        "Зробимо область невипуклою, покладанням додаткового обмеження:\n",
        "$x_1^{2}+x_2^{2} - 0.7 \\ge 0$\n",
        "\n",
        "Тоді штрафна функція набуде вигляду:\n",
        "$ (1-x)^{2} + 100*(-x^{2}+y)^{2} + R(-x^{2}-y^{2}+2.3) + R(x_1^{2}+x_2^{2} - 1.1)^{2}$\n",
        "\n",
        "**Точка лежить поза областю**\n",
        "\n",
        "R | $X_1$ | $X_2$ | Кіл-сть викликів\n",
        "--- | --- | ---- | ----\n",
        "0.1 | 0.9547169 | 0.91133122 | 545 |\n",
        "1 | 0.94778695 | 0.89812316 | 481 |\n",
        "10 | 0.94695246 | 0.89653915 | 480 |\n",
        "\n",
        "\n",
        "**Точка лежить в області**\n",
        "\n",
        "R | $X_1$ | $X_2$ | Кіл-сть викликів\n",
        "--- | --- | ---- | ----\n",
        "0.1 | 0.95471689 | 0.91133121 | 420 |\n",
        "1 | 0.94778694 | 0.89812316 | 234 |\n",
        "10 | 0.94695246 | 0.89653915 | 284 |"
      ]
    },
    {
      "cell_type": "code",
      "metadata": {
        "colab": {
          "base_uri": "https://localhost:8080/"
        },
        "id": "mraMbimxYnaH",
        "outputId": "4da26a84-a3bb-4862-eff7-245d0cd8e8b6"
      },
      "source": [
        "!pip install numpy\n",
        "!pip install scipy"
      ],
      "execution_count": null,
      "outputs": [
        {
          "output_type": "stream",
          "text": [
            "Requirement already satisfied: numpy in /usr/local/lib/python3.7/dist-packages (1.19.5)\n",
            "Requirement already satisfied: scipy in /usr/local/lib/python3.7/dist-packages (1.4.1)\n",
            "Requirement already satisfied: numpy>=1.13.3 in /usr/local/lib/python3.7/dist-packages (from scipy) (1.19.5)\n"
          ],
          "name": "stdout"
        }
      ]
    },
    {
      "cell_type": "code",
      "metadata": {
        "id": "d6RPkiYeYxPB"
      },
      "source": [
        "import math \n",
        "import numpy as np\n",
        "from scipy.optimize import approx_fprime\n",
        "from pprint import pprint"
      ],
      "execution_count": null,
      "outputs": []
    },
    {
      "cell_type": "code",
      "metadata": {
        "id": "SbiOEckoaFIe"
      },
      "source": [
        "calls_of_functions = 0\n",
        "derivative_calculation_step = 0.00001\n",
        "left_gold_section=0.382\n",
        "right_gold_section=0.618"
      ],
      "execution_count": null,
      "outputs": []
    },
    {
      "cell_type": "markdown",
      "metadata": {
        "id": "B6gAlWSTahWi"
      },
      "source": [
        "Функція Розенброка\n",
        "$f(x_1,x_2) = 100(x_1^{2} - x_2)^{2} + (x_1 - 1)^{2}$, яка має мінімум в точці $x_0 = (1, 1)$"
      ]
    },
    {
      "cell_type": "code",
      "metadata": {
        "id": "nwdOXTJnaMu2"
      },
      "source": [
        "def fun(x):\n",
        "  global calls_of_functions\n",
        "  calls_of_functions += 1\n",
        "  return 100*(x[0]**2 - x[1])**2 + (x[0]-1)**2"
      ],
      "execution_count": null,
      "outputs": []
    },
    {
      "cell_type": "markdown",
      "metadata": {
        "id": "PNzvpvvpcOb2"
      },
      "source": [
        "Пишемо функції для  для показу результатів, суми, різниці та віднімання точок."
      ]
    },
    {
      "cell_type": "code",
      "metadata": {
        "id": "nonoa0HmcFVe"
      },
      "source": [
        "def add(x, y):\n",
        "    res = []\n",
        "    for i in range(len(x)):\n",
        "        res.append(x[i] + y[i])\n",
        "    return res\n",
        "\n",
        "\n",
        "def sub(x, y):\n",
        "    res = []\n",
        "    for i in range(len(x)):\n",
        "        res.append(x[i] - y[i])\n",
        "    return res\n",
        "\n",
        "\n",
        "def mults(x, n):\n",
        "    res = []\n",
        "    for i in range(len(x)):\n",
        "        res.append(x[i] * n)\n",
        "    return res\n",
        "\n",
        "\n",
        "def print_summary(calls_of_functions, iteration, restart, A, x):\n",
        "    print(\"Кінець програми\")\n",
        "    print(f\"Функція була обчислена: {calls_of_functions} разів\")\n",
        "    print(f\"ДФП ітерацій проведено: {iteration}\")\n",
        "    print(f\"Рестартів у ДФП проведено: {restart}\")\n",
        "    print(f\"Обернена матриця Гессе:\")\n",
        "    pprint(hesse(x))\n",
        "    print(f\"Матриця напрямків А:\")\n",
        "    pprint(A)\n",
        "\n",
        "\n",
        "def print_interim_results(x, calls_of_functions, iteration, restart):\n",
        "    print(f\"Нова точка: {x}\")\n",
        "    print(f\"Функція була обчислена: {calls_of_functions} разів\")\n",
        "    print(f\"Ітерація ДФП: {iteration}\")\n"
      ],
      "execution_count": null,
      "outputs": []
    },
    {
      "cell_type": "markdown",
      "metadata": {
        "id": "zC20ol8C3zCm"
      },
      "source": [
        "Реалізуємо функції для похідних центрального, правого та лівого типів \n",
        "\n",
        "Джерело: http://aco.ifmo.ru/el_books/numerical_methods/lectures/glava1.html\n",
        "\n",
        "*МЕТОДИ ОПТИМІЗАЦІЇ.РЕКОМЕНДАЦІЇ ДО ВИКОНАННЯ КУРСОВОЇ РОБОТИ* 15-18 стор."
      ]
    },
    {
      "cell_type": "code",
      "metadata": {
        "id": "uucBostM4B0C"
      },
      "source": [
        "def derivative(x, n):  # Центр тип\n",
        "    h = []\n",
        "    for i in range(len(x)):\n",
        "        if i == n:\n",
        "            h.append(derivative_calculation_step)  # Точність пошуку похідної\n",
        "        else:\n",
        "            h.append(0) # Так як часткова похідна, то нам потрібно обнулиити другу змінну\n",
        "    return (fun([x[0] + h[0], x[1] + h[1]]) - fun([x[0] - h[0], x[1] - h[1]])) / (\n",
        "        2 * h[n]\n",
        "    )\n",
        "\n",
        "\n",
        "def derivative2(x, n):  # Правий тип\n",
        "    h = []\n",
        "    for i in range(len(x)):\n",
        "        if i == n:\n",
        "            h.append(derivative_calculation_step)  # Точність пошуку похідної\n",
        "        else:\n",
        "            h.append(0)\n",
        "    return (fun([x[0] + h[0], x[1] + h[1]]) - fun([x[0], x[1]])) / (h[n])\n",
        "\n",
        "\n",
        "def derivative3(x, n):  # Лівий тип\n",
        "    h = []\n",
        "    for i in range(len(x)):\n",
        "        if i == n:\n",
        "            h.append(derivative_calculation_step)  # Точність пошуку похідної\n",
        "        else:\n",
        "            h.append(0)\n",
        "    return (fun([x[0], x[1]]) - fun([x[0] - h[0], x[1] - h[1]])) / (h[n])"
      ],
      "execution_count": null,
      "outputs": []
    },
    {
      "cell_type": "markdown",
      "metadata": {
        "id": "KyT79CRT4IjM"
      },
      "source": [
        "Реалізуємо функції для знаходження градієнту, норми та дельт в ДФП\n",
        "\n",
        "Функція для підрахунку Гесіана https://gist.github.com/jgomezdans/3144636\n",
        "\n",
        "Дока по approx_fprime: https://scipy.github.io/devdocs/reference/generated/scipy.optimize.approx_fprime.html"
      ]
    },
    {
      "cell_type": "code",
      "metadata": {
        "id": "jOYy7SaS4QAR"
      },
      "source": [
        "def gradient(x):\n",
        "    grad = []\n",
        "    for i in range(len(x)):\n",
        "        grad.append(derivative(x, i))\n",
        "    return grad\n",
        "\n",
        "\n",
        "def norm(s1):\n",
        "    normas = 0\n",
        "    for i in range(len(s1)):\n",
        "        normas += s1[i] ** 2\n",
        "    return math.sqrt(normas)\n",
        "\n",
        "\n",
        "def hesse ( x0, epsilon=1.e-5, linear_approx=False, *args ):\n",
        "    f1 = approx_fprime( x0, fun, epsilon, *args) \n",
        "    if linear_approx:\n",
        "        f1 = np.matrix(f1)\n",
        "        return f1.transpose() * f1    \n",
        "    n = x0.shape[0]\n",
        "    hessian = np.zeros ( ( n, n ) )\n",
        "    xx = x0\n",
        "    for j in range( n ):\n",
        "        xx0 = xx[j] # Заповнюємо старими значеннями\n",
        "        xx[j] = xx0 + epsilon\n",
        "        f2 = approx_fprime( x0, fun, epsilon, *args ) \n",
        "        hessian[:, j] = (f2 - f1)/epsilon\n",
        "        xx[j] = xx0 # Restore initial value of x0        \n",
        "    return np.linalg.inv(hessian)\n",
        "\n",
        "def find_deltas(A, x0, x1):\n",
        "    deltag = np.array(sub(gradient(x1), gradient(x0)))[np.newaxis] # Різниця g\n",
        "    deltax = sub(x1, x0) # Різниця x\n",
        "\n",
        "    deltax = np.array(deltax)[np.newaxis] # Розширюємо deltax\n",
        "    deltaxT = np.array(deltax).T # Транспонуємо detlax\n",
        "    deltagT = np.array(deltag).T# Транспонуємо detltag\n",
        "\n",
        "    deltax, deltaxT = deltaxT, deltax\n",
        "    deltag, deltagT = deltagT, deltag\n",
        "\n",
        "    # Шукаємо перший дріб в формулі\n",
        "    first = np.dot(deltax, deltaxT) # Перемножуємо\n",
        "    second = np.dot(deltaxT, deltag)\n",
        "    resOne = first / second\n",
        "\n",
        "    # Шукаємо другий дріб\n",
        "    first = np.dot(A, deltag)\n",
        "    second = np.dot(first, deltagT)\n",
        "    third = np.dot(second, A)\n",
        "    temp = third\n",
        "\n",
        "    first = np.dot(deltagT, A)\n",
        "    second = np.dot(first, deltag)\n",
        "\n",
        "    resTwo = temp / second\n",
        "    return resOne, resTwo # Вертаємо кортеж з результатами"
      ],
      "execution_count": null,
      "outputs": []
    },
    {
      "cell_type": "markdown",
      "metadata": {
        "id": "_BePqP30eLf2"
      },
      "source": [
        "Пишемо функцію Свена та допоміжну функцію(для підрахунку точки х(k+1)\n",
        "\n",
        "$x(k+1) = x_k \\pm \\Delta*2^{k}$ - формула для знаходження інтервалу невизначенності, при кроці lmb в функції Svenn"
      ]
    },
    {
      "cell_type": "code",
      "metadata": {
        "id": "hbiE5wIHebOB"
      },
      "source": [
        "def calculate_x(x0, A, grad, lmb):\n",
        "    lmbA = np.dot(lmb, A)\n",
        "    lmbAgrad = np.dot(lmbA, grad)\n",
        "    calc = x0 - lmbAgrad\n",
        "    return calc\n",
        "\n",
        "\n",
        "def svenn(x0, grad, lmb, delta, A):\n",
        "    f0 = fun(calculate_x(x0, A, grad, lmb))\n",
        "    if f0 < fun(\n",
        "        calculate_x(x0, A, grad, lmb + delta)\n",
        "    ):  # визначаємо куди рухаємось ліворуч чи праворуч\n",
        "        delta = -delta\n",
        "    x1 = lmb + delta  # власне рухаємось\n",
        "    f1 = fun(calculate_x(x0, A, grad, x1))\n",
        "    while f1 < f0:  # рухаємось доти, доки не почнемо рости\n",
        "        delta *= 2\n",
        "        lmb = x1\n",
        "        x1 = lmb + delta\n",
        "        f0 = f1\n",
        "        f1 = fun(calculate_x(x0, A, grad, x1))\n",
        "    a = lmb + delta / 2  # Знаходимо наш інтервал невизначенності\n",
        "    b = lmb - delta / 2\n",
        "    f0 = fun(calculate_x(x0, A, grad, lmb))\n",
        "    f1 = fun(calculate_x(x0, A, grad, b))\n",
        "\n",
        "    if f0 < f1:\n",
        "        if a < b:\n",
        "            return [a, b]\n",
        "        else:\n",
        "            return [b, a]\n",
        "    elif f1 < f0:\n",
        "        if lmb < x1:\n",
        "            return [lmb, x1]\n",
        "        else:\n",
        "            return [x1, lmb]\n",
        "    else:\n",
        "        if lmb < b:\n",
        "            return [lmb, b]\n",
        "        else:\n",
        "            return [b, lmb]"
      ],
      "execution_count": null,
      "outputs": []
    },
    {
      "cell_type": "markdown",
      "metadata": {
        "id": "7VBrzTX9ehxB"
      },
      "source": [
        "Реалізуємо метод одновимірного пошуку - ДСК-Паула.\n",
        "Алгоритм:\n",
        "1. Обчислюємо мінімум апроксимуючого поліному:\n",
        "$ x_a = x_k + \\frac{\\Delta x (f(x_1)-f(x_3))}{2(f(x_1) - 2f(x_2) +f(x_3))}$\n",
        "2. Крутимося доти, доки не виконається одне з умов закінчення пошуку:\n",
        "\n",
        "  $|f(x_2) - f(x_m)| \\le \\varepsilon$\n",
        "\n",
        "  $ |x_2-x_m| \\le \\varepsilon$"
      ]
    },
    {
      "cell_type": "code",
      "metadata": {
        "id": "QnSxTtMwelfa"
      },
      "source": [
        "def dscPowell(x0, grad, eps, lmb, delta, A):\n",
        "    svenn_res = svenn(x0, grad, lmb, delta, A)  # Отримаємо інтервал, де лямбда\n",
        "    a = svenn_res[0]\n",
        "    b = svenn_res[1]\n",
        "    xmin = (a + b) / 2\n",
        "    f1 = fun(calculate_x(x0, A, grad, a))\n",
        "    f2 = fun(calculate_x(x0, A, grad, xmin))\n",
        "    f3 = fun(calculate_x(x0, A, grad, b))\n",
        "    xApprox = xmin + ((b - xmin) * (f1 - f3)) / (\n",
        "        2 * (f1 - 2 * f2 + f3)\n",
        "    )  # Отримуємо апросимуючий поліном\n",
        "\n",
        "    while (\n",
        "        abs(xmin - xApprox) >= eps\n",
        "        or abs(\n",
        "            fun(calculate_x(x0, A, grad, xmin)) - fun(calculate_x(x0, A, grad, xApprox))\n",
        "        )\n",
        "        >= eps\n",
        "    ):\n",
        "        if xApprox < xmin:\n",
        "            b = xmin\n",
        "        else:\n",
        "            a = xmin\n",
        "        xmin = xApprox\n",
        "        funcRes = [\n",
        "            fun(calculate_x(x0, A, grad, a)),\n",
        "            fun(calculate_x(x0, A, grad, xmin)),\n",
        "            fun(calculate_x(x0, A, grad, b)),\n",
        "        ]\n",
        "        a1 = (funcRes[1] - funcRes[0]) / (xmin - a)\n",
        "        a2 = ((funcRes[2] - funcRes[0]) / (b - a) - a1) / (b - xmin)\n",
        "        xApprox = (a + xmin) / 2 - a1 / (2 * a2)\n",
        "    return xmin\n"
      ],
      "execution_count": null,
      "outputs": []
    },
    {
      "cell_type": "markdown",
      "metadata": {
        "id": "e2j7daGfo-wR"
      },
      "source": [
        "Пишемо функцію золотого перерізу\n",
        "\n",
        "$x_1=a+0.382L$ &nbsp; \n",
        "$x_2=a+0.618L$\n",
        "\n",
        "Повертає лямбду."
      ]
    },
    {
      "cell_type": "code",
      "metadata": {
        "id": "kCcBAPSuo_CN"
      },
      "source": [
        "def gold(a, b, eps, x0, grad, A):\n",
        "    l = b - a\n",
        "    x1 = a + l * left_gold_section\n",
        "    x2 = a + l * right_gold_section\n",
        "    while l > eps:\n",
        "        if fun(calculate_x(x0, A, grad, x1)) < fun(calculate_x(x0, A, grad, x2)):\n",
        "            b = x2\n",
        "            x2 = x1\n",
        "            l = b - a\n",
        "            x1 = a + l * left_gold_section\n",
        "        else:\n",
        "            a = x1\n",
        "            x1 = x2\n",
        "            l = b - a\n",
        "            x2 = a + l * right_gold_section\n",
        "    print(f\"Золотий переріз інтервал: [{round(a,4)},{round(b,4)}]\")\n",
        "    return [a, b]\n",
        "\n",
        "\n",
        "def golden_lambda(x0, grad, eps, lmb, A):\n",
        "    line = svenn(x0, grad, lmb, 0.1, A)\n",
        "    line = gold(line[0], line[1], eps, x0, grad, A)\n",
        "    lmb = (line[0] + line[1]) / 2\n",
        "    return lmb"
      ],
      "execution_count": null,
      "outputs": []
    },
    {
      "cell_type": "markdown",
      "metadata": {
        "id": "IOtCrWyzeoUX"
      },
      "source": [
        "Пишемо реалізацию ДФП"
      ]
    },
    {
      "cell_type": "code",
      "metadata": {
        "id": "qeTRdfjperZF"
      },
      "source": [
        "def dfp(x0, eps1, eps2):\n",
        "    restart = 0\n",
        "    iteration = 1\n",
        "    lmb = 0.01\n",
        "    A = np.eye(len(x0))  # Створюємо одиничну матрицу I\n",
        "\n",
        "    print(x0)\n",
        "    print(\"------------------------\")\n",
        "    while 1:\n",
        "        grad = gradient(x0)  # шукаємо градієнт в точці\n",
        "\n",
        "        if iteration > 0:\n",
        "            if norm(grad) < eps1:  # Умова закінчення пошуку\n",
        "                print_summary(calls_of_functions, iteration, restart, A, x1)\n",
        "                break\n",
        "\n",
        "        lmb = dscPowell(x0, grad, eps2, lmb, 0.01, A)  # Шукаємо лямбду за допомогою ДСК\n",
        "        # lmb = golden_lambda(x0, grad, eps2, lmb, A)\n",
        "        if lmb < 0:\n",
        "            print(\"Рестарт\")\n",
        "            A = np.eye(len(x0))\n",
        "            restart += 1\n",
        "\n",
        "        x1 = calculate_x(x0, A, grad, lmb)  # Обчислюємо точку x1 за формулою 3\n",
        "\n",
        "        resOne, resTwo = find_deltas(A, x0, x1)  # Шукаємо дельти для матриці напрямків\n",
        "        A = A + resOne - resTwo  # Шуаємо власне матрицю напрямків\n",
        "\n",
        "        x0 = x1\n",
        "        print_interim_results(x0, calls_of_functions, iteration, restart)\n",
        "        print(\"\\n\")\n",
        "        iteration += 1\n",
        "\n",
        "    print(f\"\\n\\n\\nМінімум функціі: {x1}\")\n"
      ],
      "execution_count": null,
      "outputs": []
    },
    {
      "cell_type": "code",
      "metadata": {
        "colab": {
          "base_uri": "https://localhost:8080/"
        },
        "id": "Y7zOleZle2rY",
        "outputId": "1f07f5bf-09a5-4fe5-bc53-1d7b02d9bd26"
      },
      "source": [
        "dfp([-1.2,0.0], 0.00001, 0.001)"
      ],
      "execution_count": null,
      "outputs": [
        {
          "output_type": "stream",
          "text": [
            "[-1.2, 0.0]\n",
            "------------------------\n",
            "Нова точка: [0.94017265 0.88609793]\n",
            "Функція була обчислена: 64 разів\n",
            "Ітерація ДФП: 1\n",
            "\n",
            "\n",
            "Нова точка: [0.9407137  0.88480521]\n",
            "Функція була обчислена: 89 разів\n",
            "Ітерація ДФП: 2\n",
            "\n",
            "\n",
            "Нова точка: [0.98029471 0.95880975]\n",
            "Функція була обчислена: 144 разів\n",
            "Ітерація ДФП: 3\n",
            "\n",
            "\n",
            "Нова точка: [0.99384308 0.98808045]\n",
            "Функція була обчислена: 198 разів\n",
            "Ітерація ДФП: 4\n",
            "\n",
            "\n",
            "Нова точка: [0.99923215 0.9983774 ]\n",
            "Функція була обчислена: 251 разів\n",
            "Ітерація ДФП: 5\n",
            "\n",
            "\n",
            "Нова точка: [1.00000801 1.00001541]\n",
            "Функція була обчислена: 288 разів\n",
            "Ітерація ДФП: 6\n",
            "\n",
            "\n",
            "Нова точка: [1.00000007 1.00000015]\n",
            "Функція була обчислена: 319 разів\n",
            "Ітерація ДФП: 7\n",
            "\n",
            "\n",
            "Кінець програми\n",
            "Функція була обчислена: 323 разів\n",
            "ДФП ітерацій проведено: 8\n",
            "Рестартів у ДФП проведено: 0\n",
            "Обернена матриця Гессе:\n",
            "array([[0.49603257, 0.99207017],\n",
            "       [0.99207017, 1.9891504 ]])\n",
            "Матриця напрямків А:\n",
            "array([[0.49798069, 0.99571281],\n",
            "       [0.99571281, 1.99589643]])\n",
            "\n",
            "\n",
            "\n",
            "Мінімум функціі: [1.00000007 1.00000015]\n"
          ],
          "name": "stdout"
        }
      ]
    },
    {
      "cell_type": "markdown",
      "metadata": {
        "id": "VX6K7NOcTKXS"
      },
      "source": [
        "## Висновки\n",
        "У даній курсовій роботі був реалізований метод Девідона-Флетчера-Пауелла на мові Python. Також було проведено низку досліджень, виходячи з яких можна визначити найкращі параметри для ДФП та мінімізувати функцію за найменшу кількість кроків та, власне, оцінки цієї функції. \n",
        "Як зазначено вище, було визначено низку параметрів, що якнайкраще підходять для мінімізації функції Розенброка методом ДФП.\n",
        "* Крок обчислення похідних – 0.00001\n",
        "* Схема обчислення похідних – центральна\n",
        "* Метод одновимірного пошуку - ДСК-Пауелла \n",
        "* Точність методу одновимірного пошуку – 0.001\n",
        "* Параметр у алгоритмі Свенна – 0.01\n",
        "* Точність методу - 0.001\n",
        "\n",
        "Також хотілося б відмітити, що мінімум функції [1.00000007 1.00000015] знайдений за 323 оцінки функції.\n",
        "\n",
        "Більш того, матриця напрямків $A$ практично дорівнює $H^{-1}$\n",
        "\n",
        "Матриця напрямків:\n",
        "\\begin{pmatrix}\n",
        "0.49798069 &  0.99571281\\\\\n",
        "0.99571281 & 1.99589643\n",
        "\\end{pmatrix}\n",
        "\n",
        "Обернена матриця Гессе:\n",
        "\\begin{pmatrix}\n",
        "0.49603257 & 0.99207017\\\\\n",
        "0.99207017 & 1.9891504\n",
        "\\end{pmatrix}\n",
        "\n",
        "Для умовної оптимізації був використан метод зовнішніх штрафів. Дослідження показало, що в в незалежності від виду допустимої області, місця знаходження точки функція досягає границі допустимої області, вирівши дві задачі безумовної оптимізації.\n",
        "\n"
      ]
    },
    {
      "cell_type": "markdown",
      "metadata": {
        "id": "QG9LDpoU4x0Z"
      },
      "source": [
        "## Список використаної літератури\n",
        "* Методы оптимизации https://math.semestr.ru/optim/optim-manual.php\n",
        "* НЕЛИНЕЙНОЕ ПРОГРАММИРОВАНИЕ http://www.e-biblio.ru/book/bib/02_estestv_nauki/Matem_Advance/Part9.html\n",
        "* Химмельблау Д. Прикладное нелинейное программирование / Химмельблау Д. — М. : Мир, 1975. — 535 с.\n",
        "* Квазиньютоновские методы, или когда вторых производных для Атоса слишком много(Квазиньютоновские методы оптимизации) https://habr.com/ru/post/470638/\n",
        "* http://nsft.narod.ru/Programming/dfp.html"
      ]
    }
  ]
}